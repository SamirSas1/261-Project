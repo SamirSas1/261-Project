{
 "cells": [
  {
   "cell_type": "code",
   "execution_count": null,
   "id": "5be09d19",
   "metadata": {
    "vscode": {
     "languageId": "plaintext"
    }
   },
   "outputs": [],
   "source": [
    "import cv2\n",
    "import numpy as np\n",
    "from tensorflow.keras.models import load_model\n",
    "from tensorflow.keras.applications.inception_v3 import preprocess_input\n",
    "import sys\n",
    "\n",
    "# === Load the trained model\n",
    "model = load_model('best_inception_model.keras')\n",
    "\n",
    "# === Image preprocessing function\n",
    "def preprocess_image(image_path):\n",
    "    img = cv2.imread(image_path)\n",
    "    if img is None:\n",
    "        raise ValueError(f\"Image not found or invalid: {image_path}\")\n",
    "    img = cv2.resize(img, (150, 150))\n",
    "    img = np.expand_dims(img, axis=0)  # Add batch dimension\n",
    "    img = preprocess_input(img)\n",
    "    return img\n",
    "\n",
    "# === Diagnosis function\n",
    "def diagnose(image_path):\n",
    "    img = preprocess_image(image_path)\n",
    "    prediction = model.predict(img)[0][0]  # Get single prediction\n",
    "    if prediction > 0.5:\n",
    "        result = \"🧠 Tumor Detected\"\n",
    "    else:\n",
    "        result = \"✅ No Tumor Detected\"\n",
    "    print(f\"Image: {image_path}\")\n",
    "    print(f\"Prediction Confidence: {prediction:.4f}\")\n",
    "    print(f\"Diagnosis Result: {result}\")\n",
    "\n",
    "# === Main\n",
    "if __name__ == \"__main__\":\n",
    "    if len(sys.argv) < 2:\n",
    "        print(\"Usage: python diagnose_brain_tumor.py <path_to_image>\")\n",
    "    else:\n",
    "        diagnose(sys.argv[1])\n"
   ]
  }
 ],
 "metadata": {
  "language_info": {
   "name": "python"
  }
 },
 "nbformat": 4,
 "nbformat_minor": 5
}
